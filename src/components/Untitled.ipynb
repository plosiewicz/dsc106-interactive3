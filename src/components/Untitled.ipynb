{
 "cells": [
  {
   "cell_type": "code",
   "execution_count": 1,
   "id": "95230921",
   "metadata": {},
   "outputs": [],
   "source": [
    "import pandas as pd"
   ]
  },
  {
   "cell_type": "code",
   "execution_count": 3,
   "id": "d95301be",
   "metadata": {},
   "outputs": [],
   "source": [
    "imdb = pd.read_csv('imdb.csv').drop(columns = \"Unnamed: 0\")"
   ]
  },
  {
   "cell_type": "code",
   "execution_count": 19,
   "id": "c9b89238",
   "metadata": {},
   "outputs": [
    {
     "data": {
      "text/plain": [
       "0      2923706026\n",
       "1      2799439100\n",
       "2      2320250281\n",
       "3      2264743305\n",
       "4      2071310218\n",
       "          ...    \n",
       "245     490719763\n",
       "246     488441368\n",
       "247     487287646\n",
       "248     486797988\n",
       "249     485930816\n",
       "Name: World Wide Sales (in $), Length: 250, dtype: int64"
      ]
     },
     "execution_count": 19,
     "metadata": {},
     "output_type": "execute_result"
    }
   ],
   "source": [
    "(imdb.sort_values(by = 'World Wide Sales (in $)', ascending = False).iloc[:250])['World Wide Sales (in $)']"
   ]
  },
  {
   "cell_type": "code",
   "execution_count": null,
   "id": "055efc34",
   "metadata": {},
   "outputs": [],
   "source": []
  }
 ],
 "metadata": {
  "kernelspec": {
   "display_name": "Python 3 (ipykernel)",
   "language": "python",
   "name": "python3"
  },
  "language_info": {
   "codemirror_mode": {
    "name": "ipython",
    "version": 3
   },
   "file_extension": ".py",
   "mimetype": "text/x-python",
   "name": "python",
   "nbconvert_exporter": "python",
   "pygments_lexer": "ipython3",
   "version": "3.11.5"
  }
 },
 "nbformat": 4,
 "nbformat_minor": 5
}
